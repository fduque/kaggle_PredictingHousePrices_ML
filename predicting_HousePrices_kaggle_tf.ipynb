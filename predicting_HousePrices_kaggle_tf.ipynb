{
  "nbformat": 4,
  "nbformat_minor": 0,
  "metadata": {
    "colab": {
      "name": "predicting_HousePrices_kaggle_tf.ipynb",
      "provenance": [],
      "authorship_tag": "ABX9TyNZRg3SOeevkY+Q++45FojK",
      "include_colab_link": true
    },
    "kernelspec": {
      "name": "python3",
      "display_name": "Python 3"
    }
  },
  "cells": [
    {
      "cell_type": "markdown",
      "metadata": {
        "id": "view-in-github",
        "colab_type": "text"
      },
      "source": [
        "<a href=\"https://colab.research.google.com/github/fduque/kaggle_PredictingHousePrices_ML/blob/master/predicting_HousePrices_kaggle_tf.ipynb\" target=\"_parent\"><img src=\"https://colab.research.google.com/assets/colab-badge.svg\" alt=\"Open In Colab\"/></a>"
      ]
    },
    {
      "cell_type": "code",
      "metadata": {
        "id": "XXcxbYNVAXgl",
        "colab_type": "code",
        "colab": {}
      },
      "source": [
        "import tensorflow as tf\n",
        "import pandas as pd"
      ],
      "execution_count": 0,
      "outputs": []
    },
    {
      "cell_type": "code",
      "metadata": {
        "id": "Cj5fo8J6BAoU",
        "colab_type": "code",
        "colab": {}
      },
      "source": [
        "data = pd.read_csv(\"train.csv\")\n",
        "#defining attr,feat\n",
        "X = data.drop([\"Id\",\"SalePrice\"], axis=1)\n",
        "#defining label\n",
        "Y = data['SalePrice']"
      ],
      "execution_count": 0,
      "outputs": []
    },
    {
      "cell_type": "code",
      "metadata": {
        "id": "hZaVOKZIBzEy",
        "colab_type": "code",
        "colab": {
          "base_uri": "https://localhost:8080/",
          "height": 251
        },
        "outputId": "3d07d97b-0355-422f-b145-64cce38b489d"
      },
      "source": [
        "data.head()"
      ],
      "execution_count": 3,
      "outputs": [
        {
          "output_type": "execute_result",
          "data": {
            "text/html": [
              "<div>\n",
              "<style scoped>\n",
              "    .dataframe tbody tr th:only-of-type {\n",
              "        vertical-align: middle;\n",
              "    }\n",
              "\n",
              "    .dataframe tbody tr th {\n",
              "        vertical-align: top;\n",
              "    }\n",
              "\n",
              "    .dataframe thead th {\n",
              "        text-align: right;\n",
              "    }\n",
              "</style>\n",
              "<table border=\"1\" class=\"dataframe\">\n",
              "  <thead>\n",
              "    <tr style=\"text-align: right;\">\n",
              "      <th></th>\n",
              "      <th>Id</th>\n",
              "      <th>MSSubClass</th>\n",
              "      <th>MSZoning</th>\n",
              "      <th>LotFrontage</th>\n",
              "      <th>LotArea</th>\n",
              "      <th>Street</th>\n",
              "      <th>Alley</th>\n",
              "      <th>LotShape</th>\n",
              "      <th>LandContour</th>\n",
              "      <th>Utilities</th>\n",
              "      <th>LotConfig</th>\n",
              "      <th>LandSlope</th>\n",
              "      <th>Neighborhood</th>\n",
              "      <th>Condition1</th>\n",
              "      <th>Condition2</th>\n",
              "      <th>BldgType</th>\n",
              "      <th>HouseStyle</th>\n",
              "      <th>OverallQual</th>\n",
              "      <th>OverallCond</th>\n",
              "      <th>YearBuilt</th>\n",
              "      <th>YearRemodAdd</th>\n",
              "      <th>RoofStyle</th>\n",
              "      <th>RoofMatl</th>\n",
              "      <th>Exterior1st</th>\n",
              "      <th>Exterior2nd</th>\n",
              "      <th>MasVnrType</th>\n",
              "      <th>MasVnrArea</th>\n",
              "      <th>ExterQual</th>\n",
              "      <th>ExterCond</th>\n",
              "      <th>Foundation</th>\n",
              "      <th>BsmtQual</th>\n",
              "      <th>BsmtCond</th>\n",
              "      <th>BsmtExposure</th>\n",
              "      <th>BsmtFinType1</th>\n",
              "      <th>BsmtFinSF1</th>\n",
              "      <th>BsmtFinType2</th>\n",
              "      <th>BsmtFinSF2</th>\n",
              "      <th>BsmtUnfSF</th>\n",
              "      <th>TotalBsmtSF</th>\n",
              "      <th>Heating</th>\n",
              "      <th>...</th>\n",
              "      <th>CentralAir</th>\n",
              "      <th>Electrical</th>\n",
              "      <th>1stFlrSF</th>\n",
              "      <th>2ndFlrSF</th>\n",
              "      <th>LowQualFinSF</th>\n",
              "      <th>GrLivArea</th>\n",
              "      <th>BsmtFullBath</th>\n",
              "      <th>BsmtHalfBath</th>\n",
              "      <th>FullBath</th>\n",
              "      <th>HalfBath</th>\n",
              "      <th>BedroomAbvGr</th>\n",
              "      <th>KitchenAbvGr</th>\n",
              "      <th>KitchenQual</th>\n",
              "      <th>TotRmsAbvGrd</th>\n",
              "      <th>Functional</th>\n",
              "      <th>Fireplaces</th>\n",
              "      <th>FireplaceQu</th>\n",
              "      <th>GarageType</th>\n",
              "      <th>GarageYrBlt</th>\n",
              "      <th>GarageFinish</th>\n",
              "      <th>GarageCars</th>\n",
              "      <th>GarageArea</th>\n",
              "      <th>GarageQual</th>\n",
              "      <th>GarageCond</th>\n",
              "      <th>PavedDrive</th>\n",
              "      <th>WoodDeckSF</th>\n",
              "      <th>OpenPorchSF</th>\n",
              "      <th>EnclosedPorch</th>\n",
              "      <th>3SsnPorch</th>\n",
              "      <th>ScreenPorch</th>\n",
              "      <th>PoolArea</th>\n",
              "      <th>PoolQC</th>\n",
              "      <th>Fence</th>\n",
              "      <th>MiscFeature</th>\n",
              "      <th>MiscVal</th>\n",
              "      <th>MoSold</th>\n",
              "      <th>YrSold</th>\n",
              "      <th>SaleType</th>\n",
              "      <th>SaleCondition</th>\n",
              "      <th>SalePrice</th>\n",
              "    </tr>\n",
              "  </thead>\n",
              "  <tbody>\n",
              "    <tr>\n",
              "      <th>0</th>\n",
              "      <td>1</td>\n",
              "      <td>60</td>\n",
              "      <td>RL</td>\n",
              "      <td>65.0</td>\n",
              "      <td>8450</td>\n",
              "      <td>Pave</td>\n",
              "      <td>NaN</td>\n",
              "      <td>Reg</td>\n",
              "      <td>Lvl</td>\n",
              "      <td>AllPub</td>\n",
              "      <td>Inside</td>\n",
              "      <td>Gtl</td>\n",
              "      <td>CollgCr</td>\n",
              "      <td>Norm</td>\n",
              "      <td>Norm</td>\n",
              "      <td>1Fam</td>\n",
              "      <td>2Story</td>\n",
              "      <td>7</td>\n",
              "      <td>5</td>\n",
              "      <td>2003</td>\n",
              "      <td>2003</td>\n",
              "      <td>Gable</td>\n",
              "      <td>CompShg</td>\n",
              "      <td>VinylSd</td>\n",
              "      <td>VinylSd</td>\n",
              "      <td>BrkFace</td>\n",
              "      <td>196.0</td>\n",
              "      <td>Gd</td>\n",
              "      <td>TA</td>\n",
              "      <td>PConc</td>\n",
              "      <td>Gd</td>\n",
              "      <td>TA</td>\n",
              "      <td>No</td>\n",
              "      <td>GLQ</td>\n",
              "      <td>706</td>\n",
              "      <td>Unf</td>\n",
              "      <td>0</td>\n",
              "      <td>150</td>\n",
              "      <td>856</td>\n",
              "      <td>GasA</td>\n",
              "      <td>...</td>\n",
              "      <td>Y</td>\n",
              "      <td>SBrkr</td>\n",
              "      <td>856</td>\n",
              "      <td>854</td>\n",
              "      <td>0</td>\n",
              "      <td>1710</td>\n",
              "      <td>1</td>\n",
              "      <td>0</td>\n",
              "      <td>2</td>\n",
              "      <td>1</td>\n",
              "      <td>3</td>\n",
              "      <td>1</td>\n",
              "      <td>Gd</td>\n",
              "      <td>8</td>\n",
              "      <td>Typ</td>\n",
              "      <td>0</td>\n",
              "      <td>NaN</td>\n",
              "      <td>Attchd</td>\n",
              "      <td>2003.0</td>\n",
              "      <td>RFn</td>\n",
              "      <td>2</td>\n",
              "      <td>548</td>\n",
              "      <td>TA</td>\n",
              "      <td>TA</td>\n",
              "      <td>Y</td>\n",
              "      <td>0</td>\n",
              "      <td>61</td>\n",
              "      <td>0</td>\n",
              "      <td>0</td>\n",
              "      <td>0</td>\n",
              "      <td>0</td>\n",
              "      <td>NaN</td>\n",
              "      <td>NaN</td>\n",
              "      <td>NaN</td>\n",
              "      <td>0</td>\n",
              "      <td>2</td>\n",
              "      <td>2008</td>\n",
              "      <td>WD</td>\n",
              "      <td>Normal</td>\n",
              "      <td>208500</td>\n",
              "    </tr>\n",
              "    <tr>\n",
              "      <th>1</th>\n",
              "      <td>2</td>\n",
              "      <td>20</td>\n",
              "      <td>RL</td>\n",
              "      <td>80.0</td>\n",
              "      <td>9600</td>\n",
              "      <td>Pave</td>\n",
              "      <td>NaN</td>\n",
              "      <td>Reg</td>\n",
              "      <td>Lvl</td>\n",
              "      <td>AllPub</td>\n",
              "      <td>FR2</td>\n",
              "      <td>Gtl</td>\n",
              "      <td>Veenker</td>\n",
              "      <td>Feedr</td>\n",
              "      <td>Norm</td>\n",
              "      <td>1Fam</td>\n",
              "      <td>1Story</td>\n",
              "      <td>6</td>\n",
              "      <td>8</td>\n",
              "      <td>1976</td>\n",
              "      <td>1976</td>\n",
              "      <td>Gable</td>\n",
              "      <td>CompShg</td>\n",
              "      <td>MetalSd</td>\n",
              "      <td>MetalSd</td>\n",
              "      <td>None</td>\n",
              "      <td>0.0</td>\n",
              "      <td>TA</td>\n",
              "      <td>TA</td>\n",
              "      <td>CBlock</td>\n",
              "      <td>Gd</td>\n",
              "      <td>TA</td>\n",
              "      <td>Gd</td>\n",
              "      <td>ALQ</td>\n",
              "      <td>978</td>\n",
              "      <td>Unf</td>\n",
              "      <td>0</td>\n",
              "      <td>284</td>\n",
              "      <td>1262</td>\n",
              "      <td>GasA</td>\n",
              "      <td>...</td>\n",
              "      <td>Y</td>\n",
              "      <td>SBrkr</td>\n",
              "      <td>1262</td>\n",
              "      <td>0</td>\n",
              "      <td>0</td>\n",
              "      <td>1262</td>\n",
              "      <td>0</td>\n",
              "      <td>1</td>\n",
              "      <td>2</td>\n",
              "      <td>0</td>\n",
              "      <td>3</td>\n",
              "      <td>1</td>\n",
              "      <td>TA</td>\n",
              "      <td>6</td>\n",
              "      <td>Typ</td>\n",
              "      <td>1</td>\n",
              "      <td>TA</td>\n",
              "      <td>Attchd</td>\n",
              "      <td>1976.0</td>\n",
              "      <td>RFn</td>\n",
              "      <td>2</td>\n",
              "      <td>460</td>\n",
              "      <td>TA</td>\n",
              "      <td>TA</td>\n",
              "      <td>Y</td>\n",
              "      <td>298</td>\n",
              "      <td>0</td>\n",
              "      <td>0</td>\n",
              "      <td>0</td>\n",
              "      <td>0</td>\n",
              "      <td>0</td>\n",
              "      <td>NaN</td>\n",
              "      <td>NaN</td>\n",
              "      <td>NaN</td>\n",
              "      <td>0</td>\n",
              "      <td>5</td>\n",
              "      <td>2007</td>\n",
              "      <td>WD</td>\n",
              "      <td>Normal</td>\n",
              "      <td>181500</td>\n",
              "    </tr>\n",
              "    <tr>\n",
              "      <th>2</th>\n",
              "      <td>3</td>\n",
              "      <td>60</td>\n",
              "      <td>RL</td>\n",
              "      <td>68.0</td>\n",
              "      <td>11250</td>\n",
              "      <td>Pave</td>\n",
              "      <td>NaN</td>\n",
              "      <td>IR1</td>\n",
              "      <td>Lvl</td>\n",
              "      <td>AllPub</td>\n",
              "      <td>Inside</td>\n",
              "      <td>Gtl</td>\n",
              "      <td>CollgCr</td>\n",
              "      <td>Norm</td>\n",
              "      <td>Norm</td>\n",
              "      <td>1Fam</td>\n",
              "      <td>2Story</td>\n",
              "      <td>7</td>\n",
              "      <td>5</td>\n",
              "      <td>2001</td>\n",
              "      <td>2002</td>\n",
              "      <td>Gable</td>\n",
              "      <td>CompShg</td>\n",
              "      <td>VinylSd</td>\n",
              "      <td>VinylSd</td>\n",
              "      <td>BrkFace</td>\n",
              "      <td>162.0</td>\n",
              "      <td>Gd</td>\n",
              "      <td>TA</td>\n",
              "      <td>PConc</td>\n",
              "      <td>Gd</td>\n",
              "      <td>TA</td>\n",
              "      <td>Mn</td>\n",
              "      <td>GLQ</td>\n",
              "      <td>486</td>\n",
              "      <td>Unf</td>\n",
              "      <td>0</td>\n",
              "      <td>434</td>\n",
              "      <td>920</td>\n",
              "      <td>GasA</td>\n",
              "      <td>...</td>\n",
              "      <td>Y</td>\n",
              "      <td>SBrkr</td>\n",
              "      <td>920</td>\n",
              "      <td>866</td>\n",
              "      <td>0</td>\n",
              "      <td>1786</td>\n",
              "      <td>1</td>\n",
              "      <td>0</td>\n",
              "      <td>2</td>\n",
              "      <td>1</td>\n",
              "      <td>3</td>\n",
              "      <td>1</td>\n",
              "      <td>Gd</td>\n",
              "      <td>6</td>\n",
              "      <td>Typ</td>\n",
              "      <td>1</td>\n",
              "      <td>TA</td>\n",
              "      <td>Attchd</td>\n",
              "      <td>2001.0</td>\n",
              "      <td>RFn</td>\n",
              "      <td>2</td>\n",
              "      <td>608</td>\n",
              "      <td>TA</td>\n",
              "      <td>TA</td>\n",
              "      <td>Y</td>\n",
              "      <td>0</td>\n",
              "      <td>42</td>\n",
              "      <td>0</td>\n",
              "      <td>0</td>\n",
              "      <td>0</td>\n",
              "      <td>0</td>\n",
              "      <td>NaN</td>\n",
              "      <td>NaN</td>\n",
              "      <td>NaN</td>\n",
              "      <td>0</td>\n",
              "      <td>9</td>\n",
              "      <td>2008</td>\n",
              "      <td>WD</td>\n",
              "      <td>Normal</td>\n",
              "      <td>223500</td>\n",
              "    </tr>\n",
              "    <tr>\n",
              "      <th>3</th>\n",
              "      <td>4</td>\n",
              "      <td>70</td>\n",
              "      <td>RL</td>\n",
              "      <td>60.0</td>\n",
              "      <td>9550</td>\n",
              "      <td>Pave</td>\n",
              "      <td>NaN</td>\n",
              "      <td>IR1</td>\n",
              "      <td>Lvl</td>\n",
              "      <td>AllPub</td>\n",
              "      <td>Corner</td>\n",
              "      <td>Gtl</td>\n",
              "      <td>Crawfor</td>\n",
              "      <td>Norm</td>\n",
              "      <td>Norm</td>\n",
              "      <td>1Fam</td>\n",
              "      <td>2Story</td>\n",
              "      <td>7</td>\n",
              "      <td>5</td>\n",
              "      <td>1915</td>\n",
              "      <td>1970</td>\n",
              "      <td>Gable</td>\n",
              "      <td>CompShg</td>\n",
              "      <td>Wd Sdng</td>\n",
              "      <td>Wd Shng</td>\n",
              "      <td>None</td>\n",
              "      <td>0.0</td>\n",
              "      <td>TA</td>\n",
              "      <td>TA</td>\n",
              "      <td>BrkTil</td>\n",
              "      <td>TA</td>\n",
              "      <td>Gd</td>\n",
              "      <td>No</td>\n",
              "      <td>ALQ</td>\n",
              "      <td>216</td>\n",
              "      <td>Unf</td>\n",
              "      <td>0</td>\n",
              "      <td>540</td>\n",
              "      <td>756</td>\n",
              "      <td>GasA</td>\n",
              "      <td>...</td>\n",
              "      <td>Y</td>\n",
              "      <td>SBrkr</td>\n",
              "      <td>961</td>\n",
              "      <td>756</td>\n",
              "      <td>0</td>\n",
              "      <td>1717</td>\n",
              "      <td>1</td>\n",
              "      <td>0</td>\n",
              "      <td>1</td>\n",
              "      <td>0</td>\n",
              "      <td>3</td>\n",
              "      <td>1</td>\n",
              "      <td>Gd</td>\n",
              "      <td>7</td>\n",
              "      <td>Typ</td>\n",
              "      <td>1</td>\n",
              "      <td>Gd</td>\n",
              "      <td>Detchd</td>\n",
              "      <td>1998.0</td>\n",
              "      <td>Unf</td>\n",
              "      <td>3</td>\n",
              "      <td>642</td>\n",
              "      <td>TA</td>\n",
              "      <td>TA</td>\n",
              "      <td>Y</td>\n",
              "      <td>0</td>\n",
              "      <td>35</td>\n",
              "      <td>272</td>\n",
              "      <td>0</td>\n",
              "      <td>0</td>\n",
              "      <td>0</td>\n",
              "      <td>NaN</td>\n",
              "      <td>NaN</td>\n",
              "      <td>NaN</td>\n",
              "      <td>0</td>\n",
              "      <td>2</td>\n",
              "      <td>2006</td>\n",
              "      <td>WD</td>\n",
              "      <td>Abnorml</td>\n",
              "      <td>140000</td>\n",
              "    </tr>\n",
              "    <tr>\n",
              "      <th>4</th>\n",
              "      <td>5</td>\n",
              "      <td>60</td>\n",
              "      <td>RL</td>\n",
              "      <td>84.0</td>\n",
              "      <td>14260</td>\n",
              "      <td>Pave</td>\n",
              "      <td>NaN</td>\n",
              "      <td>IR1</td>\n",
              "      <td>Lvl</td>\n",
              "      <td>AllPub</td>\n",
              "      <td>FR2</td>\n",
              "      <td>Gtl</td>\n",
              "      <td>NoRidge</td>\n",
              "      <td>Norm</td>\n",
              "      <td>Norm</td>\n",
              "      <td>1Fam</td>\n",
              "      <td>2Story</td>\n",
              "      <td>8</td>\n",
              "      <td>5</td>\n",
              "      <td>2000</td>\n",
              "      <td>2000</td>\n",
              "      <td>Gable</td>\n",
              "      <td>CompShg</td>\n",
              "      <td>VinylSd</td>\n",
              "      <td>VinylSd</td>\n",
              "      <td>BrkFace</td>\n",
              "      <td>350.0</td>\n",
              "      <td>Gd</td>\n",
              "      <td>TA</td>\n",
              "      <td>PConc</td>\n",
              "      <td>Gd</td>\n",
              "      <td>TA</td>\n",
              "      <td>Av</td>\n",
              "      <td>GLQ</td>\n",
              "      <td>655</td>\n",
              "      <td>Unf</td>\n",
              "      <td>0</td>\n",
              "      <td>490</td>\n",
              "      <td>1145</td>\n",
              "      <td>GasA</td>\n",
              "      <td>...</td>\n",
              "      <td>Y</td>\n",
              "      <td>SBrkr</td>\n",
              "      <td>1145</td>\n",
              "      <td>1053</td>\n",
              "      <td>0</td>\n",
              "      <td>2198</td>\n",
              "      <td>1</td>\n",
              "      <td>0</td>\n",
              "      <td>2</td>\n",
              "      <td>1</td>\n",
              "      <td>4</td>\n",
              "      <td>1</td>\n",
              "      <td>Gd</td>\n",
              "      <td>9</td>\n",
              "      <td>Typ</td>\n",
              "      <td>1</td>\n",
              "      <td>TA</td>\n",
              "      <td>Attchd</td>\n",
              "      <td>2000.0</td>\n",
              "      <td>RFn</td>\n",
              "      <td>3</td>\n",
              "      <td>836</td>\n",
              "      <td>TA</td>\n",
              "      <td>TA</td>\n",
              "      <td>Y</td>\n",
              "      <td>192</td>\n",
              "      <td>84</td>\n",
              "      <td>0</td>\n",
              "      <td>0</td>\n",
              "      <td>0</td>\n",
              "      <td>0</td>\n",
              "      <td>NaN</td>\n",
              "      <td>NaN</td>\n",
              "      <td>NaN</td>\n",
              "      <td>0</td>\n",
              "      <td>12</td>\n",
              "      <td>2008</td>\n",
              "      <td>WD</td>\n",
              "      <td>Normal</td>\n",
              "      <td>250000</td>\n",
              "    </tr>\n",
              "  </tbody>\n",
              "</table>\n",
              "<p>5 rows × 81 columns</p>\n",
              "</div>"
            ],
            "text/plain": [
              "   Id  MSSubClass MSZoning  ...  SaleType  SaleCondition SalePrice\n",
              "0   1          60       RL  ...        WD         Normal    208500\n",
              "1   2          20       RL  ...        WD         Normal    181500\n",
              "2   3          60       RL  ...        WD         Normal    223500\n",
              "3   4          70       RL  ...        WD        Abnorml    140000\n",
              "4   5          60       RL  ...        WD         Normal    250000\n",
              "\n",
              "[5 rows x 81 columns]"
            ]
          },
          "metadata": {
            "tags": []
          },
          "execution_count": 3
        }
      ]
    },
    {
      "cell_type": "code",
      "metadata": {
        "id": "SYNOwxuZB31T",
        "colab_type": "code",
        "colab": {
          "base_uri": "https://localhost:8080/",
          "height": 35
        },
        "outputId": "8023993a-c186-4e5a-bb1f-6a0247f7685e"
      },
      "source": [
        "from sklearn.model_selection import train_test_split\n",
        "#defining validation and trainning dataset\n",
        "Xtr, Xval, ytr, yval = train_test_split(X,Y,train_size=0.5, random_state=0)\n",
        "\n",
        "Xtr.shape, Xval.shape, ytr.shape, yval.shape"
      ],
      "execution_count": 4,
      "outputs": [
        {
          "output_type": "execute_result",
          "data": {
            "text/plain": [
              "((730, 79), (730, 79), (730,), (730,))"
            ]
          },
          "metadata": {
            "tags": []
          },
          "execution_count": 4
        }
      ]
    },
    {
      "cell_type": "code",
      "metadata": {
        "id": "ksE_gs3VEUwy",
        "colab_type": "code",
        "colab": {
          "base_uri": "https://localhost:8080/",
          "height": 222
        },
        "outputId": "4eabded1-3e0f-4c95-d87f-a75ad5d1aee8"
      },
      "source": [
        "Xtr.head()"
      ],
      "execution_count": 5,
      "outputs": [
        {
          "output_type": "execute_result",
          "data": {
            "text/html": [
              "<div>\n",
              "<style scoped>\n",
              "    .dataframe tbody tr th:only-of-type {\n",
              "        vertical-align: middle;\n",
              "    }\n",
              "\n",
              "    .dataframe tbody tr th {\n",
              "        vertical-align: top;\n",
              "    }\n",
              "\n",
              "    .dataframe thead th {\n",
              "        text-align: right;\n",
              "    }\n",
              "</style>\n",
              "<table border=\"1\" class=\"dataframe\">\n",
              "  <thead>\n",
              "    <tr style=\"text-align: right;\">\n",
              "      <th></th>\n",
              "      <th>MSSubClass</th>\n",
              "      <th>MSZoning</th>\n",
              "      <th>LotFrontage</th>\n",
              "      <th>LotArea</th>\n",
              "      <th>Street</th>\n",
              "      <th>Alley</th>\n",
              "      <th>LotShape</th>\n",
              "      <th>LandContour</th>\n",
              "      <th>Utilities</th>\n",
              "      <th>LotConfig</th>\n",
              "      <th>LandSlope</th>\n",
              "      <th>Neighborhood</th>\n",
              "      <th>Condition1</th>\n",
              "      <th>Condition2</th>\n",
              "      <th>BldgType</th>\n",
              "      <th>HouseStyle</th>\n",
              "      <th>OverallQual</th>\n",
              "      <th>OverallCond</th>\n",
              "      <th>YearBuilt</th>\n",
              "      <th>YearRemodAdd</th>\n",
              "      <th>RoofStyle</th>\n",
              "      <th>RoofMatl</th>\n",
              "      <th>Exterior1st</th>\n",
              "      <th>Exterior2nd</th>\n",
              "      <th>MasVnrType</th>\n",
              "      <th>MasVnrArea</th>\n",
              "      <th>ExterQual</th>\n",
              "      <th>ExterCond</th>\n",
              "      <th>Foundation</th>\n",
              "      <th>BsmtQual</th>\n",
              "      <th>BsmtCond</th>\n",
              "      <th>BsmtExposure</th>\n",
              "      <th>BsmtFinType1</th>\n",
              "      <th>BsmtFinSF1</th>\n",
              "      <th>BsmtFinType2</th>\n",
              "      <th>BsmtFinSF2</th>\n",
              "      <th>BsmtUnfSF</th>\n",
              "      <th>TotalBsmtSF</th>\n",
              "      <th>Heating</th>\n",
              "      <th>HeatingQC</th>\n",
              "      <th>CentralAir</th>\n",
              "      <th>Electrical</th>\n",
              "      <th>1stFlrSF</th>\n",
              "      <th>2ndFlrSF</th>\n",
              "      <th>LowQualFinSF</th>\n",
              "      <th>GrLivArea</th>\n",
              "      <th>BsmtFullBath</th>\n",
              "      <th>BsmtHalfBath</th>\n",
              "      <th>FullBath</th>\n",
              "      <th>HalfBath</th>\n",
              "      <th>BedroomAbvGr</th>\n",
              "      <th>KitchenAbvGr</th>\n",
              "      <th>KitchenQual</th>\n",
              "      <th>TotRmsAbvGrd</th>\n",
              "      <th>Functional</th>\n",
              "      <th>Fireplaces</th>\n",
              "      <th>FireplaceQu</th>\n",
              "      <th>GarageType</th>\n",
              "      <th>GarageYrBlt</th>\n",
              "      <th>GarageFinish</th>\n",
              "      <th>GarageCars</th>\n",
              "      <th>GarageArea</th>\n",
              "      <th>GarageQual</th>\n",
              "      <th>GarageCond</th>\n",
              "      <th>PavedDrive</th>\n",
              "      <th>WoodDeckSF</th>\n",
              "      <th>OpenPorchSF</th>\n",
              "      <th>EnclosedPorch</th>\n",
              "      <th>3SsnPorch</th>\n",
              "      <th>ScreenPorch</th>\n",
              "      <th>PoolArea</th>\n",
              "      <th>PoolQC</th>\n",
              "      <th>Fence</th>\n",
              "      <th>MiscFeature</th>\n",
              "      <th>MiscVal</th>\n",
              "      <th>MoSold</th>\n",
              "      <th>YrSold</th>\n",
              "      <th>SaleType</th>\n",
              "      <th>SaleCondition</th>\n",
              "    </tr>\n",
              "  </thead>\n",
              "  <tbody>\n",
              "    <tr>\n",
              "      <th>733</th>\n",
              "      <td>20</td>\n",
              "      <td>RL</td>\n",
              "      <td>80.0</td>\n",
              "      <td>10000</td>\n",
              "      <td>Pave</td>\n",
              "      <td>NaN</td>\n",
              "      <td>Reg</td>\n",
              "      <td>Lvl</td>\n",
              "      <td>AllPub</td>\n",
              "      <td>Corner</td>\n",
              "      <td>Gtl</td>\n",
              "      <td>Sawyer</td>\n",
              "      <td>Feedr</td>\n",
              "      <td>Norm</td>\n",
              "      <td>1Fam</td>\n",
              "      <td>1Story</td>\n",
              "      <td>5</td>\n",
              "      <td>6</td>\n",
              "      <td>1961</td>\n",
              "      <td>1983</td>\n",
              "      <td>Hip</td>\n",
              "      <td>CompShg</td>\n",
              "      <td>HdBoard</td>\n",
              "      <td>HdBoard</td>\n",
              "      <td>None</td>\n",
              "      <td>0.0</td>\n",
              "      <td>TA</td>\n",
              "      <td>TA</td>\n",
              "      <td>CBlock</td>\n",
              "      <td>TA</td>\n",
              "      <td>TA</td>\n",
              "      <td>No</td>\n",
              "      <td>BLQ</td>\n",
              "      <td>594</td>\n",
              "      <td>Unf</td>\n",
              "      <td>0</td>\n",
              "      <td>270</td>\n",
              "      <td>864</td>\n",
              "      <td>GasA</td>\n",
              "      <td>Ex</td>\n",
              "      <td>Y</td>\n",
              "      <td>SBrkr</td>\n",
              "      <td>1144</td>\n",
              "      <td>0</td>\n",
              "      <td>0</td>\n",
              "      <td>1144</td>\n",
              "      <td>1</td>\n",
              "      <td>0</td>\n",
              "      <td>1</td>\n",
              "      <td>0</td>\n",
              "      <td>3</td>\n",
              "      <td>1</td>\n",
              "      <td>TA</td>\n",
              "      <td>6</td>\n",
              "      <td>Typ</td>\n",
              "      <td>1</td>\n",
              "      <td>TA</td>\n",
              "      <td>Attchd</td>\n",
              "      <td>1961.0</td>\n",
              "      <td>RFn</td>\n",
              "      <td>1</td>\n",
              "      <td>264</td>\n",
              "      <td>TA</td>\n",
              "      <td>TA</td>\n",
              "      <td>Y</td>\n",
              "      <td>165</td>\n",
              "      <td>0</td>\n",
              "      <td>0</td>\n",
              "      <td>0</td>\n",
              "      <td>0</td>\n",
              "      <td>0</td>\n",
              "      <td>NaN</td>\n",
              "      <td>GdWo</td>\n",
              "      <td>Shed</td>\n",
              "      <td>400</td>\n",
              "      <td>3</td>\n",
              "      <td>2009</td>\n",
              "      <td>WD</td>\n",
              "      <td>Normal</td>\n",
              "    </tr>\n",
              "    <tr>\n",
              "      <th>382</th>\n",
              "      <td>60</td>\n",
              "      <td>RL</td>\n",
              "      <td>79.0</td>\n",
              "      <td>9245</td>\n",
              "      <td>Pave</td>\n",
              "      <td>NaN</td>\n",
              "      <td>IR1</td>\n",
              "      <td>Lvl</td>\n",
              "      <td>AllPub</td>\n",
              "      <td>Inside</td>\n",
              "      <td>Gtl</td>\n",
              "      <td>CollgCr</td>\n",
              "      <td>Norm</td>\n",
              "      <td>Norm</td>\n",
              "      <td>1Fam</td>\n",
              "      <td>2Story</td>\n",
              "      <td>7</td>\n",
              "      <td>5</td>\n",
              "      <td>2006</td>\n",
              "      <td>2006</td>\n",
              "      <td>Gable</td>\n",
              "      <td>CompShg</td>\n",
              "      <td>VinylSd</td>\n",
              "      <td>VinylSd</td>\n",
              "      <td>None</td>\n",
              "      <td>0.0</td>\n",
              "      <td>Gd</td>\n",
              "      <td>TA</td>\n",
              "      <td>PConc</td>\n",
              "      <td>Gd</td>\n",
              "      <td>TA</td>\n",
              "      <td>Av</td>\n",
              "      <td>Unf</td>\n",
              "      <td>0</td>\n",
              "      <td>Unf</td>\n",
              "      <td>0</td>\n",
              "      <td>939</td>\n",
              "      <td>939</td>\n",
              "      <td>GasA</td>\n",
              "      <td>Ex</td>\n",
              "      <td>Y</td>\n",
              "      <td>SBrkr</td>\n",
              "      <td>939</td>\n",
              "      <td>858</td>\n",
              "      <td>0</td>\n",
              "      <td>1797</td>\n",
              "      <td>0</td>\n",
              "      <td>0</td>\n",
              "      <td>2</td>\n",
              "      <td>1</td>\n",
              "      <td>3</td>\n",
              "      <td>1</td>\n",
              "      <td>Gd</td>\n",
              "      <td>8</td>\n",
              "      <td>Typ</td>\n",
              "      <td>0</td>\n",
              "      <td>NaN</td>\n",
              "      <td>Attchd</td>\n",
              "      <td>2006.0</td>\n",
              "      <td>RFn</td>\n",
              "      <td>2</td>\n",
              "      <td>639</td>\n",
              "      <td>TA</td>\n",
              "      <td>TA</td>\n",
              "      <td>Y</td>\n",
              "      <td>144</td>\n",
              "      <td>53</td>\n",
              "      <td>0</td>\n",
              "      <td>0</td>\n",
              "      <td>0</td>\n",
              "      <td>0</td>\n",
              "      <td>NaN</td>\n",
              "      <td>NaN</td>\n",
              "      <td>NaN</td>\n",
              "      <td>0</td>\n",
              "      <td>4</td>\n",
              "      <td>2007</td>\n",
              "      <td>WD</td>\n",
              "      <td>Normal</td>\n",
              "    </tr>\n",
              "    <tr>\n",
              "      <th>1232</th>\n",
              "      <td>90</td>\n",
              "      <td>RL</td>\n",
              "      <td>70.0</td>\n",
              "      <td>9842</td>\n",
              "      <td>Pave</td>\n",
              "      <td>NaN</td>\n",
              "      <td>Reg</td>\n",
              "      <td>Lvl</td>\n",
              "      <td>AllPub</td>\n",
              "      <td>FR2</td>\n",
              "      <td>Gtl</td>\n",
              "      <td>NAmes</td>\n",
              "      <td>Norm</td>\n",
              "      <td>Norm</td>\n",
              "      <td>Duplex</td>\n",
              "      <td>1Story</td>\n",
              "      <td>4</td>\n",
              "      <td>5</td>\n",
              "      <td>1962</td>\n",
              "      <td>1962</td>\n",
              "      <td>Gable</td>\n",
              "      <td>CompShg</td>\n",
              "      <td>HdBoard</td>\n",
              "      <td>HdBoard</td>\n",
              "      <td>None</td>\n",
              "      <td>0.0</td>\n",
              "      <td>TA</td>\n",
              "      <td>TA</td>\n",
              "      <td>Slab</td>\n",
              "      <td>NaN</td>\n",
              "      <td>NaN</td>\n",
              "      <td>NaN</td>\n",
              "      <td>NaN</td>\n",
              "      <td>0</td>\n",
              "      <td>NaN</td>\n",
              "      <td>0</td>\n",
              "      <td>0</td>\n",
              "      <td>0</td>\n",
              "      <td>GasA</td>\n",
              "      <td>TA</td>\n",
              "      <td>Y</td>\n",
              "      <td>SBrkr</td>\n",
              "      <td>1224</td>\n",
              "      <td>0</td>\n",
              "      <td>0</td>\n",
              "      <td>1224</td>\n",
              "      <td>0</td>\n",
              "      <td>0</td>\n",
              "      <td>2</td>\n",
              "      <td>0</td>\n",
              "      <td>2</td>\n",
              "      <td>2</td>\n",
              "      <td>TA</td>\n",
              "      <td>6</td>\n",
              "      <td>Typ</td>\n",
              "      <td>0</td>\n",
              "      <td>NaN</td>\n",
              "      <td>CarPort</td>\n",
              "      <td>1962.0</td>\n",
              "      <td>Unf</td>\n",
              "      <td>2</td>\n",
              "      <td>462</td>\n",
              "      <td>TA</td>\n",
              "      <td>TA</td>\n",
              "      <td>Y</td>\n",
              "      <td>0</td>\n",
              "      <td>0</td>\n",
              "      <td>0</td>\n",
              "      <td>0</td>\n",
              "      <td>0</td>\n",
              "      <td>0</td>\n",
              "      <td>NaN</td>\n",
              "      <td>NaN</td>\n",
              "      <td>NaN</td>\n",
              "      <td>0</td>\n",
              "      <td>3</td>\n",
              "      <td>2007</td>\n",
              "      <td>WD</td>\n",
              "      <td>Normal</td>\n",
              "    </tr>\n",
              "    <tr>\n",
              "      <th>1354</th>\n",
              "      <td>60</td>\n",
              "      <td>RL</td>\n",
              "      <td>NaN</td>\n",
              "      <td>10316</td>\n",
              "      <td>Pave</td>\n",
              "      <td>NaN</td>\n",
              "      <td>IR1</td>\n",
              "      <td>Lvl</td>\n",
              "      <td>AllPub</td>\n",
              "      <td>Inside</td>\n",
              "      <td>Gtl</td>\n",
              "      <td>CollgCr</td>\n",
              "      <td>Norm</td>\n",
              "      <td>Norm</td>\n",
              "      <td>1Fam</td>\n",
              "      <td>2Story</td>\n",
              "      <td>7</td>\n",
              "      <td>5</td>\n",
              "      <td>2000</td>\n",
              "      <td>2000</td>\n",
              "      <td>Gable</td>\n",
              "      <td>CompShg</td>\n",
              "      <td>VinylSd</td>\n",
              "      <td>VinylSd</td>\n",
              "      <td>None</td>\n",
              "      <td>0.0</td>\n",
              "      <td>Gd</td>\n",
              "      <td>TA</td>\n",
              "      <td>PConc</td>\n",
              "      <td>Gd</td>\n",
              "      <td>TA</td>\n",
              "      <td>No</td>\n",
              "      <td>GLQ</td>\n",
              "      <td>735</td>\n",
              "      <td>Unf</td>\n",
              "      <td>0</td>\n",
              "      <td>257</td>\n",
              "      <td>992</td>\n",
              "      <td>GasA</td>\n",
              "      <td>Ex</td>\n",
              "      <td>Y</td>\n",
              "      <td>SBrkr</td>\n",
              "      <td>992</td>\n",
              "      <td>873</td>\n",
              "      <td>0</td>\n",
              "      <td>1865</td>\n",
              "      <td>1</td>\n",
              "      <td>0</td>\n",
              "      <td>2</td>\n",
              "      <td>1</td>\n",
              "      <td>3</td>\n",
              "      <td>1</td>\n",
              "      <td>Gd</td>\n",
              "      <td>7</td>\n",
              "      <td>Typ</td>\n",
              "      <td>1</td>\n",
              "      <td>TA</td>\n",
              "      <td>Attchd</td>\n",
              "      <td>2000.0</td>\n",
              "      <td>RFn</td>\n",
              "      <td>3</td>\n",
              "      <td>839</td>\n",
              "      <td>TA</td>\n",
              "      <td>TA</td>\n",
              "      <td>Y</td>\n",
              "      <td>0</td>\n",
              "      <td>184</td>\n",
              "      <td>0</td>\n",
              "      <td>0</td>\n",
              "      <td>0</td>\n",
              "      <td>0</td>\n",
              "      <td>NaN</td>\n",
              "      <td>NaN</td>\n",
              "      <td>NaN</td>\n",
              "      <td>0</td>\n",
              "      <td>6</td>\n",
              "      <td>2008</td>\n",
              "      <td>WD</td>\n",
              "      <td>Normal</td>\n",
              "    </tr>\n",
              "    <tr>\n",
              "      <th>331</th>\n",
              "      <td>20</td>\n",
              "      <td>RL</td>\n",
              "      <td>70.0</td>\n",
              "      <td>8176</td>\n",
              "      <td>Pave</td>\n",
              "      <td>NaN</td>\n",
              "      <td>Reg</td>\n",
              "      <td>Lvl</td>\n",
              "      <td>AllPub</td>\n",
              "      <td>Inside</td>\n",
              "      <td>Gtl</td>\n",
              "      <td>NAmes</td>\n",
              "      <td>Norm</td>\n",
              "      <td>Norm</td>\n",
              "      <td>1Fam</td>\n",
              "      <td>1Story</td>\n",
              "      <td>5</td>\n",
              "      <td>6</td>\n",
              "      <td>1958</td>\n",
              "      <td>1992</td>\n",
              "      <td>Gable</td>\n",
              "      <td>CompShg</td>\n",
              "      <td>Wd Sdng</td>\n",
              "      <td>Wd Sdng</td>\n",
              "      <td>None</td>\n",
              "      <td>0.0</td>\n",
              "      <td>TA</td>\n",
              "      <td>TA</td>\n",
              "      <td>CBlock</td>\n",
              "      <td>TA</td>\n",
              "      <td>TA</td>\n",
              "      <td>No</td>\n",
              "      <td>Rec</td>\n",
              "      <td>846</td>\n",
              "      <td>Unf</td>\n",
              "      <td>0</td>\n",
              "      <td>210</td>\n",
              "      <td>1056</td>\n",
              "      <td>GasA</td>\n",
              "      <td>Fa</td>\n",
              "      <td>Y</td>\n",
              "      <td>SBrkr</td>\n",
              "      <td>1056</td>\n",
              "      <td>0</td>\n",
              "      <td>0</td>\n",
              "      <td>1056</td>\n",
              "      <td>1</td>\n",
              "      <td>0</td>\n",
              "      <td>1</td>\n",
              "      <td>0</td>\n",
              "      <td>3</td>\n",
              "      <td>1</td>\n",
              "      <td>TA</td>\n",
              "      <td>6</td>\n",
              "      <td>Typ</td>\n",
              "      <td>0</td>\n",
              "      <td>NaN</td>\n",
              "      <td>Attchd</td>\n",
              "      <td>1958.0</td>\n",
              "      <td>RFn</td>\n",
              "      <td>1</td>\n",
              "      <td>308</td>\n",
              "      <td>TA</td>\n",
              "      <td>TA</td>\n",
              "      <td>Y</td>\n",
              "      <td>0</td>\n",
              "      <td>0</td>\n",
              "      <td>0</td>\n",
              "      <td>0</td>\n",
              "      <td>0</td>\n",
              "      <td>0</td>\n",
              "      <td>NaN</td>\n",
              "      <td>NaN</td>\n",
              "      <td>NaN</td>\n",
              "      <td>0</td>\n",
              "      <td>8</td>\n",
              "      <td>2007</td>\n",
              "      <td>WD</td>\n",
              "      <td>Normal</td>\n",
              "    </tr>\n",
              "  </tbody>\n",
              "</table>\n",
              "</div>"
            ],
            "text/plain": [
              "      MSSubClass MSZoning  LotFrontage  ...  YrSold SaleType SaleCondition\n",
              "733           20       RL         80.0  ...    2009       WD        Normal\n",
              "382           60       RL         79.0  ...    2007       WD        Normal\n",
              "1232          90       RL         70.0  ...    2007       WD        Normal\n",
              "1354          60       RL          NaN  ...    2008       WD        Normal\n",
              "331           20       RL         70.0  ...    2007       WD        Normal\n",
              "\n",
              "[5 rows x 79 columns]"
            ]
          },
          "metadata": {
            "tags": []
          },
          "execution_count": 5
        }
      ]
    },
    {
      "cell_type": "code",
      "metadata": {
        "id": "y3W7dxaOElfK",
        "colab_type": "code",
        "colab": {}
      },
      "source": [
        "#as we have seen above, there are numbers of categorical variables. So, we need to convert these text variable in numbers. \n",
        "#to do it so, we can use one hot encoding...\n",
        "#lets defining the columns to be transformed\n",
        "cat_cols = ['MSZoning','Street','Alley','LotShape','LandContour','Utilities','LotConfig','LandSlope','Neighborhood','Condition1','Condition2','BldgType','HouseStyle','RoofStyle','RoofMatl','Exterior1st','Exterior2nd','MasVnrType','ExterQual','ExterCond','Foundation','BsmtQual','BsmtCond','BsmtExposure','BsmtFinType1','BsmtFinType2','Heating','HeatingQC','CentralAir','Electrical','KitchenQual','Functional','FireplaceQu','GarageType','GarageFinish','GarageQual','GarageCond','PavedDrive','PoolQC','Fence','MiscFeature','SaleType','SaleCondition']\n",
        "\n"
      ],
      "execution_count": 0,
      "outputs": []
    },
    {
      "cell_type": "code",
      "metadata": {
        "id": "W8HyobzKIsv0",
        "colab_type": "code",
        "colab": {
          "base_uri": "https://localhost:8080/",
          "height": 228
        },
        "outputId": "87ca9222-1a30-4bfe-93e0-d10b0ddd6e8f"
      },
      "source": [
        "pip install category_encoders"
      ],
      "execution_count": 7,
      "outputs": [
        {
          "output_type": "stream",
          "text": [
            "Requirement already satisfied: category_encoders in /usr/local/lib/python3.6/dist-packages (2.1.0)\n",
            "Requirement already satisfied: numpy>=1.11.3 in /usr/local/lib/python3.6/dist-packages (from category_encoders) (1.18.2)\n",
            "Requirement already satisfied: statsmodels>=0.6.1 in /usr/local/lib/python3.6/dist-packages (from category_encoders) (0.10.2)\n",
            "Requirement already satisfied: pandas>=0.21.1 in /usr/local/lib/python3.6/dist-packages (from category_encoders) (0.25.3)\n",
            "Requirement already satisfied: scipy>=0.19.0 in /usr/local/lib/python3.6/dist-packages (from category_encoders) (1.4.1)\n",
            "Requirement already satisfied: scikit-learn>=0.20.0 in /usr/local/lib/python3.6/dist-packages (from category_encoders) (0.22.2.post1)\n",
            "Requirement already satisfied: patsy>=0.4.1 in /usr/local/lib/python3.6/dist-packages (from category_encoders) (0.5.1)\n",
            "Requirement already satisfied: pytz>=2017.2 in /usr/local/lib/python3.6/dist-packages (from pandas>=0.21.1->category_encoders) (2018.9)\n",
            "Requirement already satisfied: python-dateutil>=2.6.1 in /usr/local/lib/python3.6/dist-packages (from pandas>=0.21.1->category_encoders) (2.8.1)\n",
            "Requirement already satisfied: joblib>=0.11 in /usr/local/lib/python3.6/dist-packages (from scikit-learn>=0.20.0->category_encoders) (0.14.1)\n",
            "Requirement already satisfied: six in /usr/local/lib/python3.6/dist-packages (from patsy>=0.4.1->category_encoders) (1.12.0)\n"
          ],
          "name": "stdout"
        }
      ]
    },
    {
      "cell_type": "code",
      "metadata": {
        "id": "yFUW1yDgG2a_",
        "colab_type": "code",
        "colab": {}
      },
      "source": [
        "#encoding...\n",
        "from category_encoders import OneHotEncoder\n",
        "#handle_missing=0 means that if exist any missing value, like null, define it = Zero\n",
        "cat_encoder = OneHotEncoder(cols=cat_cols, drop_invariant=True, handle_missing=0)\n",
        "#encoding trainning data...\n",
        "Xtr = cat_encoder.fit_transform(Xtr)\n",
        "#encoding validation data...\n",
        "Xval = cat_encoder.transform(Xval)"
      ],
      "execution_count": 0,
      "outputs": []
    },
    {
      "cell_type": "code",
      "metadata": {
        "id": "bdeXp6ZGI0ay",
        "colab_type": "code",
        "colab": {}
      },
      "source": [
        "from sklearn.impute import SimpleImputer\n",
        "imputer = SimpleImputer(strategy='mean')\n",
        "#encoding trainning data...\n",
        "Xtr = imputer.fit_transform(Xtr)\n",
        "Xval = imputer.transform(Xval)\n"
      ],
      "execution_count": 0,
      "outputs": []
    },
    {
      "cell_type": "code",
      "metadata": {
        "id": "TiHg-VK8K26E",
        "colab_type": "code",
        "colab": {
          "base_uri": "https://localhost:8080/",
          "height": 139
        },
        "outputId": "60e825bf-7460-4c27-bb0b-eecd6748dd44"
      },
      "source": [
        "Xtr"
      ],
      "execution_count": 10,
      "outputs": [
        {
          "output_type": "execute_result",
          "data": {
            "text/plain": [
              "array([[ 20.,   1.,   0., ...,   0.,   0.,   0.],\n",
              "       [ 60.,   1.,   0., ...,   0.,   0.,   0.],\n",
              "       [ 90.,   1.,   0., ...,   0.,   0.,   0.],\n",
              "       ...,\n",
              "       [ 90.,   0.,   1., ...,   0.,   0.,   0.],\n",
              "       [120.,   1.,   0., ...,   0.,   0.,   0.],\n",
              "       [ 60.,   1.,   0., ...,   0.,   0.,   0.]])"
            ]
          },
          "metadata": {
            "tags": []
          },
          "execution_count": 10
        }
      ]
    },
    {
      "cell_type": "code",
      "metadata": {
        "id": "ZVolo_PcLd_d",
        "colab_type": "code",
        "colab": {}
      },
      "source": [
        "from tensorflow import keras as tfk"
      ],
      "execution_count": 0,
      "outputs": []
    },
    {
      "cell_type": "code",
      "metadata": {
        "id": "W9s9GnEWLmwB",
        "colab_type": "code",
        "colab": {
          "base_uri": "https://localhost:8080/",
          "height": 260
        },
        "outputId": "18a061f8-5edb-46cd-8463-d4854c901c55"
      },
      "source": [
        "#defining standard seed to guarantee the reproduceability of model\n",
        "tf.random.set_seed(2)\n",
        "\n",
        "#first layer, input data\n",
        "inp = tfk.layers.Input((Xtr.shape[1], ))\n",
        "\n",
        "#hidden layers\n",
        "# 100 = qty of neurons\n",
        "# relu function: x = w1*f1 + w2*f2 > max(0, x)\n",
        "#at the end, declare \"inp\" that means the layer input, the layer that comes immediately before\n",
        "hid = tfk.layers.Dense(100,activation='relu')(inp)\n",
        "\n",
        "#output layer\n",
        "# 1, meas just one output layer\n",
        "# activation Linear = its the simplest way, which x = w1*f1 + w2*f2\n",
        "#at the end, declare \"hid\" that means the layer hidden\n",
        "out = tfk.layers.Dense(1, activation='linear')(hid)\n",
        "\n",
        "#1st par = input layer\n",
        "#2nd par = output layer\n",
        "mdl = tfk.Model(inp, out)\n",
        "#loss msle = minimum square logarithm error\n",
        "#defining the optimizer = Adam optimization is a stochastic gradient descent method that is based on adaptive estimation of first-order and second-order moments.\n",
        "mdl.compile(loss='msle', optimizer='adam')\n",
        "#print how our neural model is organized\n",
        "mdl.summary()\n"
      ],
      "execution_count": 12,
      "outputs": [
        {
          "output_type": "stream",
          "text": [
            "Model: \"model\"\n",
            "_________________________________________________________________\n",
            "Layer (type)                 Output Shape              Param #   \n",
            "=================================================================\n",
            "input_1 (InputLayer)         [(None, 285)]             0         \n",
            "_________________________________________________________________\n",
            "dense (Dense)                (None, 100)               28600     \n",
            "_________________________________________________________________\n",
            "dense_1 (Dense)              (None, 1)                 101       \n",
            "=================================================================\n",
            "Total params: 28,701\n",
            "Trainable params: 28,701\n",
            "Non-trainable params: 0\n",
            "_________________________________________________________________\n"
          ],
          "name": "stdout"
        }
      ]
    },
    {
      "cell_type": "markdown",
      "metadata": {
        "id": "J1PH7Wib8fgN",
        "colab_type": "text"
      },
      "source": [
        "**Tranning - Version 1**"
      ]
    },
    {
      "cell_type": "code",
      "metadata": {
        "id": "Q5_RGa87Scse",
        "colab_type": "code",
        "colab": {
          "base_uri": "https://localhost:8080/",
          "height": 381
        },
        "outputId": "06e062e2-0f72-4876-cbaa-6ec49518c135"
      },
      "source": [
        "#epoch = when the neural network has\n",
        "#shuffle  = true : means that the function is going to sort again, giving some ramdoness for each round\n",
        "mdl.fit(Xtr, ytr, validation_data=(Xval, yval), epochs=10, shuffle=True, batch_size=1)"
      ],
      "execution_count": 13,
      "outputs": [
        {
          "output_type": "stream",
          "text": [
            "Epoch 1/10\n",
            "730/730 [==============================] - 2s 2ms/step - loss: 144.7781 - val_loss: 144.6273\n",
            "Epoch 2/10\n",
            "730/730 [==============================] - 2s 2ms/step - loss: 144.7780 - val_loss: 144.6273\n",
            "Epoch 3/10\n",
            "730/730 [==============================] - 2s 2ms/step - loss: 144.7779 - val_loss: 144.6273\n",
            "Epoch 4/10\n",
            "730/730 [==============================] - 2s 2ms/step - loss: 144.7779 - val_loss: 144.6273\n",
            "Epoch 5/10\n",
            "730/730 [==============================] - 2s 2ms/step - loss: 144.7780 - val_loss: 144.6273\n",
            "Epoch 6/10\n",
            "730/730 [==============================] - 2s 2ms/step - loss: 144.7780 - val_loss: 144.6273\n",
            "Epoch 7/10\n",
            "730/730 [==============================] - 2s 2ms/step - loss: 144.7780 - val_loss: 144.6273\n",
            "Epoch 8/10\n",
            "730/730 [==============================] - 2s 2ms/step - loss: 144.7780 - val_loss: 144.6273\n",
            "Epoch 9/10\n",
            "730/730 [==============================] - 2s 2ms/step - loss: 144.7780 - val_loss: 144.6273\n",
            "Epoch 10/10\n",
            "730/730 [==============================] - 2s 2ms/step - loss: 144.7780 - val_loss: 144.6273\n"
          ],
          "name": "stdout"
        },
        {
          "output_type": "execute_result",
          "data": {
            "text/plain": [
              "<tensorflow.python.keras.callbacks.History at 0x7fa748af0dd8>"
            ]
          },
          "metadata": {
            "tags": []
          },
          "execution_count": 13
        }
      ]
    },
    {
      "cell_type": "markdown",
      "metadata": {
        "id": "MPMiedWe8cTV",
        "colab_type": "text"
      },
      "source": [
        ""
      ]
    },
    {
      "cell_type": "code",
      "metadata": {
        "id": "FbeZ_IpuTwdw",
        "colab_type": "code",
        "colab": {
          "base_uri": "https://localhost:8080/",
          "height": 35
        },
        "outputId": "2c345924-5ca3-4443-88b4-4e8ac96dbf30"
      },
      "source": [
        "#High Loss rate! \n",
        "import numpy as np\n",
        "loss1 = np.sqrt(144.7788)\n",
        "print(\"Model 01 loss rate:\", loss1,\"%\")"
      ],
      "execution_count": 14,
      "outputs": [
        {
          "output_type": "stream",
          "text": [
            "Model 01 loss rate: 12.032406243141892 %\n"
          ],
          "name": "stdout"
        }
      ]
    },
    {
      "cell_type": "code",
      "metadata": {
        "id": "W8htPSFq7tfm",
        "colab_type": "code",
        "colab": {}
      },
      "source": [
        "#High Loss rate! \n",
        "#One of the reasons, some features, such as loss_area, have a wide range of values. \n",
        "#Reducing this range, through out Scalling method, can improve our model\n",
        "#Lets do it on Trainning Version2\n"
      ],
      "execution_count": 0,
      "outputs": []
    },
    {
      "cell_type": "markdown",
      "metadata": {
        "id": "wWzR2faY8nod",
        "colab_type": "text"
      },
      "source": [
        "**Trainning - Version 2 **\n",
        "\n",
        "Applying scalling ..."
      ]
    },
    {
      "cell_type": "code",
      "metadata": {
        "id": "bY4uSZSs8rpL",
        "colab_type": "code",
        "colab": {}
      },
      "source": [
        "#re-doing inputing process...\n",
        "from sklearn.impute import SimpleImputer\n",
        "imputer = SimpleImputer(strategy='mean')\n",
        "#encoding trainning data...\n",
        "Xtr = imputer.fit_transform(Xtr)\n",
        "Xval = imputer.transform(Xval)"
      ],
      "execution_count": 0,
      "outputs": []
    },
    {
      "cell_type": "code",
      "metadata": {
        "id": "Vrm7_y6q81u-",
        "colab_type": "code",
        "colab": {}
      },
      "source": [
        "#applying scalling method...\n",
        "#normally, instead of using MaxAbsScaller, we would use StandardScaler (subtract the mean and divide by the standard deviation)\n",
        "#in cases of very sparse datasets, like this one,StandardScaler it is not indicated\n",
        "#We choose to use MaxAbsScaller, better for this model, MaxAbsScaller(get the higher absolute value of the column and divide each value by it)\n",
        "from sklearn.preprocessing import MaxAbsScaler\n",
        "scaler = MaxAbsScaler()\n",
        "Xtr = scaler.fit_transform(Xtr)\n",
        "Xval = scaler.transform(Xval)"
      ],
      "execution_count": 0,
      "outputs": []
    },
    {
      "cell_type": "code",
      "metadata": {
        "id": "tQnna6Cx9Jpl",
        "colab_type": "code",
        "colab": {
          "base_uri": "https://localhost:8080/",
          "height": 243
        },
        "outputId": "6f144195-08e6-43b4-8a06-ecaf5d473ec8"
      },
      "source": [
        "Xtr"
      ],
      "execution_count": 17,
      "outputs": [
        {
          "output_type": "execute_result",
          "data": {
            "text/plain": [
              "array([[0.10526316, 1.        , 0.        , ..., 0.        , 0.        ,\n",
              "        0.        ],\n",
              "       [0.31578947, 1.        , 0.        , ..., 0.        , 0.        ,\n",
              "        0.        ],\n",
              "       [0.47368421, 1.        , 0.        , ..., 0.        , 0.        ,\n",
              "        0.        ],\n",
              "       ...,\n",
              "       [0.47368421, 0.        , 1.        , ..., 0.        , 0.        ,\n",
              "        0.        ],\n",
              "       [0.63157895, 1.        , 0.        , ..., 0.        , 0.        ,\n",
              "        0.        ],\n",
              "       [0.31578947, 1.        , 0.        , ..., 0.        , 0.        ,\n",
              "        0.        ]])"
            ]
          },
          "metadata": {
            "tags": []
          },
          "execution_count": 17
        }
      ]
    },
    {
      "cell_type": "code",
      "metadata": {
        "id": "k9REB7sn_Hqv",
        "colab_type": "code",
        "colab": {}
      },
      "source": [
        "from tensorflow import keras as tfk"
      ],
      "execution_count": 0,
      "outputs": []
    },
    {
      "cell_type": "code",
      "metadata": {
        "id": "rQ7yXj_F_MGQ",
        "colab_type": "code",
        "colab": {
          "base_uri": "https://localhost:8080/",
          "height": 260
        },
        "outputId": "745b7d63-f15e-431e-88e9-e0c0032b083b"
      },
      "source": [
        "#defining standard seed to guarantee the reproduceability of model\n",
        "tf.random.set_seed(2)\n",
        "\n",
        "#first layer, input data\n",
        "inp = tfk.layers.Input((Xtr.shape[1], ))\n",
        "\n",
        "#hidden layers\n",
        "# 100 = qty of neurons\n",
        "# relu function: x = w1*f1 + w2*f2 > max(0, x)\n",
        "#at the end, declare \"inp\" that means the layer input, the layer that comes immediately before\n",
        "hid = tfk.layers.Dense(100,activation='relu')(inp)\n",
        "\n",
        "#output layer\n",
        "# 1, meas just one output layer\n",
        "# activation Linear = its the simplest way, which x = w1*f1 + w2*f2\n",
        "#at the end, declare \"hid\" that means the layer hidden\n",
        "out = tfk.layers.Dense(1, activation='linear')(hid)\n",
        "\n",
        "#1st par = input layer\n",
        "#2nd par = output layer\n",
        "mdl = tfk.Model(inp, out)\n",
        "#loss msle = minimum square logarithm error\n",
        "#defining the optimizer = Adam optimization is a stochastic gradient descent method that is based on adaptive estimation of first-order and second-order moments.\n",
        "mdl.compile(loss='msle', optimizer='adam')\n",
        "#print how our neural model is organized\n",
        "mdl.summary()"
      ],
      "execution_count": 19,
      "outputs": [
        {
          "output_type": "stream",
          "text": [
            "Model: \"model_1\"\n",
            "_________________________________________________________________\n",
            "Layer (type)                 Output Shape              Param #   \n",
            "=================================================================\n",
            "input_2 (InputLayer)         [(None, 285)]             0         \n",
            "_________________________________________________________________\n",
            "dense_2 (Dense)              (None, 100)               28600     \n",
            "_________________________________________________________________\n",
            "dense_3 (Dense)              (None, 1)                 101       \n",
            "=================================================================\n",
            "Total params: 28,701\n",
            "Trainable params: 28,701\n",
            "Non-trainable params: 0\n",
            "_________________________________________________________________\n"
          ],
          "name": "stdout"
        }
      ]
    },
    {
      "cell_type": "code",
      "metadata": {
        "id": "tY4kGqte_SmF",
        "colab_type": "code",
        "colab": {
          "base_uri": "https://localhost:8080/",
          "height": 381
        },
        "outputId": "0f5b2505-c9b4-47c5-fb7d-a733df22cf37"
      },
      "source": [
        "#epoch = when the neural network has\n",
        "#shuffle  = true : means that the function is going to sort again, giving some ramdoness for each round\n",
        "mdl.fit(Xtr, ytr, validation_data=(Xval, yval), epochs=10, shuffle=True, batch_size=1)"
      ],
      "execution_count": 20,
      "outputs": [
        {
          "output_type": "stream",
          "text": [
            "Epoch 1/10\n",
            "730/730 [==============================] - 2s 2ms/step - loss: 59.0277 - val_loss: 39.0566\n",
            "Epoch 2/10\n",
            "730/730 [==============================] - 2s 2ms/step - loss: 33.2110 - val_loss: 28.6764\n",
            "Epoch 3/10\n",
            "730/730 [==============================] - 2s 2ms/step - loss: 25.6345 - val_loss: 22.9695\n",
            "Epoch 4/10\n",
            "730/730 [==============================] - 2s 2ms/step - loss: 20.9052 - val_loss: 19.0063\n",
            "Epoch 5/10\n",
            "730/730 [==============================] - 2s 2ms/step - loss: 17.4412 - val_loss: 15.9630\n",
            "Epoch 6/10\n",
            "730/730 [==============================] - 2s 2ms/step - loss: 14.7064 - val_loss: 13.4994\n",
            "Epoch 7/10\n",
            "730/730 [==============================] - 2s 2ms/step - loss: 12.4548 - val_loss: 11.4408\n",
            "Epoch 8/10\n",
            "730/730 [==============================] - 2s 2ms/step - loss: 10.5558 - val_loss: 9.6898\n",
            "Epoch 9/10\n",
            "730/730 [==============================] - 2s 2ms/step - loss: 8.9330 - val_loss: 8.1874\n",
            "Epoch 10/10\n",
            "730/730 [==============================] - 2s 2ms/step - loss: 7.5361 - val_loss: 6.8914\n"
          ],
          "name": "stdout"
        },
        {
          "output_type": "execute_result",
          "data": {
            "text/plain": [
              "<tensorflow.python.keras.callbacks.History at 0x7fa7443bd518>"
            ]
          },
          "metadata": {
            "tags": []
          },
          "execution_count": 20
        }
      ]
    },
    {
      "cell_type": "code",
      "metadata": {
        "id": "ejw1v2iR_bOp",
        "colab_type": "code",
        "colab": {
          "base_uri": "https://localhost:8080/",
          "height": 35
        },
        "outputId": "a5e5025a-cd53-44dc-a20e-fd462e3d6bf4"
      },
      "source": [
        "#The model has improved! \n",
        "import numpy as np\n",
        "loss2 = np.sqrt(7.53)\n",
        "print(\"Model 02 loss rate:\", loss2,\"%\")"
      ],
      "execution_count": 21,
      "outputs": [
        {
          "output_type": "stream",
          "text": [
            "Model 02 loss rate: 2.7440845468024486 %\n"
          ],
          "name": "stdout"
        }
      ]
    },
    {
      "cell_type": "markdown",
      "metadata": {
        "id": "e04ILdhiBLDj",
        "colab_type": "text"
      },
      "source": [
        "Trainning 3 \n",
        "Change activation function to Relu"
      ]
    },
    {
      "cell_type": "code",
      "metadata": {
        "id": "lgreGWfYA1Fv",
        "colab_type": "code",
        "colab": {
          "base_uri": "https://localhost:8080/",
          "height": 260
        },
        "outputId": "60e40ab7-9fd6-4ddd-89d1-4c9351e3fc2e"
      },
      "source": [
        "#defining standard seed to guarantee the reproduceability of model\n",
        "tf.random.set_seed(2)\n",
        "\n",
        "#first layer, input data\n",
        "inp = tfk.layers.Input((Xtr.shape[1], ))\n",
        "\n",
        "#hidden layers\n",
        "# 100 = qty of neurons\n",
        "# relu function: x = w1*f1 + w2*f2 > max(0, x)\n",
        "#at the end, declare \"inp\" that means the layer input, the layer that comes immediately before\n",
        "hid = tfk.layers.Dense(100,activation='relu')(inp)\n",
        "\n",
        "#output layer\n",
        "# 1, meas just one output layer\n",
        "# activation Linear = its the simplest way, which x = w1*f1 + w2*f2\n",
        "#at the end, declare \"hid\" that means the layer hidden\n",
        "out = tfk.layers.Dense(1, activation='relu')(hid)\n",
        "\n",
        "#1st par = input layer\n",
        "#2nd par = output layer\n",
        "mdl = tfk.Model(inp, out)\n",
        "#loss msle = minimum square logarithm error\n",
        "#defining the optimizer = Adam optimization is a stochastic gradient descent method that is based on adaptive estimation of first-order and second-order moments.\n",
        "mdl.compile(loss='msle', optimizer='adam')\n",
        "#print how our neural model is organized\n",
        "mdl.summary()"
      ],
      "execution_count": 22,
      "outputs": [
        {
          "output_type": "stream",
          "text": [
            "Model: \"model_2\"\n",
            "_________________________________________________________________\n",
            "Layer (type)                 Output Shape              Param #   \n",
            "=================================================================\n",
            "input_3 (InputLayer)         [(None, 285)]             0         \n",
            "_________________________________________________________________\n",
            "dense_4 (Dense)              (None, 100)               28600     \n",
            "_________________________________________________________________\n",
            "dense_5 (Dense)              (None, 1)                 101       \n",
            "=================================================================\n",
            "Total params: 28,701\n",
            "Trainable params: 28,701\n",
            "Non-trainable params: 0\n",
            "_________________________________________________________________\n"
          ],
          "name": "stdout"
        }
      ]
    },
    {
      "cell_type": "code",
      "metadata": {
        "id": "S8vccqt0DVYC",
        "colab_type": "code",
        "colab": {
          "base_uri": "https://localhost:8080/",
          "height": 381
        },
        "outputId": "bf61504e-755f-443b-c55e-de7c05446b85"
      },
      "source": [
        "#epoch = when the neural network has\n",
        "#shuffle  = true : means that the function is going to sort again, giving some ramdoness for each round\n",
        "mdl.fit(Xtr, ytr, validation_data=(Xval, yval), epochs=10, shuffle=True, batch_size=1)"
      ],
      "execution_count": 23,
      "outputs": [
        {
          "output_type": "stream",
          "text": [
            "Epoch 1/10\n",
            "730/730 [==============================] - 2s 2ms/step - loss: 59.0277 - val_loss: 39.0566\n",
            "Epoch 2/10\n",
            "730/730 [==============================] - 2s 2ms/step - loss: 33.2110 - val_loss: 28.6764\n",
            "Epoch 3/10\n",
            "730/730 [==============================] - 2s 2ms/step - loss: 25.6345 - val_loss: 22.9695\n",
            "Epoch 4/10\n",
            "730/730 [==============================] - 2s 2ms/step - loss: 20.9052 - val_loss: 19.0063\n",
            "Epoch 5/10\n",
            "730/730 [==============================] - 2s 2ms/step - loss: 17.4412 - val_loss: 15.9630\n",
            "Epoch 6/10\n",
            "730/730 [==============================] - 2s 2ms/step - loss: 14.7064 - val_loss: 13.4994\n",
            "Epoch 7/10\n",
            "730/730 [==============================] - 2s 2ms/step - loss: 12.4548 - val_loss: 11.4408\n",
            "Epoch 8/10\n",
            "730/730 [==============================] - 2s 2ms/step - loss: 10.5558 - val_loss: 9.6898\n",
            "Epoch 9/10\n",
            "730/730 [==============================] - 2s 2ms/step - loss: 8.9330 - val_loss: 8.1874\n",
            "Epoch 10/10\n",
            "730/730 [==============================] - 2s 2ms/step - loss: 7.5361 - val_loss: 6.8914\n"
          ],
          "name": "stdout"
        },
        {
          "output_type": "execute_result",
          "data": {
            "text/plain": [
              "<tensorflow.python.keras.callbacks.History at 0x7fa7478d0630>"
            ]
          },
          "metadata": {
            "tags": []
          },
          "execution_count": 23
        }
      ]
    },
    {
      "cell_type": "code",
      "metadata": {
        "id": "_ldVpvb1DZHH",
        "colab_type": "code",
        "colab": {
          "base_uri": "https://localhost:8080/",
          "height": 35
        },
        "outputId": "cb112588-f65e-47b2-9a56-417110d68dc7"
      },
      "source": [
        "#Nothing has changed! \n",
        "import numpy as np\n",
        "loss3 = np.sqrt(7.53)\n",
        "print(\"Model 03 loss rate:\", loss3,\"%\")"
      ],
      "execution_count": 24,
      "outputs": [
        {
          "output_type": "stream",
          "text": [
            "Model 03 loss rate: 2.7440845468024486 %\n"
          ],
          "name": "stdout"
        }
      ]
    },
    {
      "cell_type": "markdown",
      "metadata": {
        "id": "KnLmkSXpB9cR",
        "colab_type": "text"
      },
      "source": [
        "Trainning 4\n",
        "Increasing one hidden layer (Now we're deep!:))"
      ]
    },
    {
      "cell_type": "code",
      "metadata": {
        "id": "agJMXWqbBKhG",
        "colab_type": "code",
        "colab": {
          "base_uri": "https://localhost:8080/",
          "height": 295
        },
        "outputId": "45a174e8-9f46-4abc-a8a0-caea87632ba8"
      },
      "source": [
        "#defining standard seed to guarantee the reproduceability of model\n",
        "tf.random.set_seed(2)\n",
        "\n",
        "#first layer, input data\n",
        "inp = tfk.layers.Input((Xtr.shape[1], ))\n",
        "\n",
        "#hidden layers\n",
        "# 100 = qty of neurons\n",
        "# relu function: x = w1*f1 + w2*f2 > max(0, x)\n",
        "#at the end, declare \"inp\" that means the layer input, the layer that comes immediately before\n",
        "hid1 = tfk.layers.Dense(100,activation='relu')(inp)\n",
        "\n",
        "#two hidden layers, its considered a deep learning model...\n",
        "hid2 = tfk.layers.Dense(100,activation='relu')(hid1)\n",
        "\n",
        "#output layer\n",
        "# 1, meas just one output layer\n",
        "# activation Linear = its the simplest way, which x = w1*f1 + w2*f2\n",
        "#at the end, declare \"hid\" that means the layer hidden\n",
        "out = tfk.layers.Dense(1, activation='linear')(hid2)\n",
        "\n",
        "#1st par = input layer\n",
        "#2nd par = output layer\n",
        "mdl = tfk.Model(inp, out)\n",
        "#loss msle = minimum square logarithm error\n",
        "#defining the optimizer = Adam optimization is a stochastic gradient descent method that is based on adaptive estimation of first-order and second-order moments.\n",
        "mdl.compile(loss='msle', optimizer='adam')\n",
        "#print how our neural model is organized\n",
        "mdl.summary()"
      ],
      "execution_count": 25,
      "outputs": [
        {
          "output_type": "stream",
          "text": [
            "Model: \"model_3\"\n",
            "_________________________________________________________________\n",
            "Layer (type)                 Output Shape              Param #   \n",
            "=================================================================\n",
            "input_4 (InputLayer)         [(None, 285)]             0         \n",
            "_________________________________________________________________\n",
            "dense_6 (Dense)              (None, 100)               28600     \n",
            "_________________________________________________________________\n",
            "dense_7 (Dense)              (None, 100)               10100     \n",
            "_________________________________________________________________\n",
            "dense_8 (Dense)              (None, 1)                 101       \n",
            "=================================================================\n",
            "Total params: 38,801\n",
            "Trainable params: 38,801\n",
            "Non-trainable params: 0\n",
            "_________________________________________________________________\n"
          ],
          "name": "stdout"
        }
      ]
    },
    {
      "cell_type": "code",
      "metadata": {
        "id": "oXcaqQ6CDy08",
        "colab_type": "code",
        "colab": {
          "base_uri": "https://localhost:8080/",
          "height": 381
        },
        "outputId": "8a6e101f-cdb0-477f-913b-01ba2765ddfc"
      },
      "source": [
        "#epoch = when the neural network has\n",
        "#shuffle  = true : means that the function is going to sort again, giving some ramdoness for each round\n",
        "mdl.fit(Xtr, ytr, validation_data=(Xval, yval), epochs=10, shuffle=True, batch_size=1)"
      ],
      "execution_count": 26,
      "outputs": [
        {
          "output_type": "stream",
          "text": [
            "Epoch 1/10\n",
            "730/730 [==============================] - 2s 2ms/step - loss: 36.4788 - val_loss: 11.5034\n",
            "Epoch 2/10\n",
            "730/730 [==============================] - 2s 2ms/step - loss: 7.4209 - val_loss: 4.7114\n",
            "Epoch 3/10\n",
            "730/730 [==============================] - 2s 2ms/step - loss: 3.3309 - val_loss: 2.2611\n",
            "Epoch 4/10\n",
            "730/730 [==============================] - 2s 2ms/step - loss: 1.6266 - val_loss: 1.1114\n",
            "Epoch 5/10\n",
            "730/730 [==============================] - 2s 2ms/step - loss: 0.8013 - val_loss: 0.5446\n",
            "Epoch 6/10\n",
            "730/730 [==============================] - 2s 2ms/step - loss: 0.4010 - val_loss: 0.2796\n",
            "Epoch 7/10\n",
            "730/730 [==============================] - 2s 2ms/step - loss: 0.2208 - val_loss: 0.1680\n",
            "Epoch 8/10\n",
            "730/730 [==============================] - 2s 2ms/step - loss: 0.1497 - val_loss: 0.1278\n",
            "Epoch 9/10\n",
            "730/730 [==============================] - 2s 2ms/step - loss: 0.1251 - val_loss: 0.1138\n",
            "Epoch 10/10\n",
            "730/730 [==============================] - 2s 2ms/step - loss: 0.1143 - val_loss: 0.1051\n"
          ],
          "name": "stdout"
        },
        {
          "output_type": "execute_result",
          "data": {
            "text/plain": [
              "<tensorflow.python.keras.callbacks.History at 0x7fa7478b28d0>"
            ]
          },
          "metadata": {
            "tags": []
          },
          "execution_count": 26
        }
      ]
    },
    {
      "cell_type": "code",
      "metadata": {
        "id": "GU4D-S-LD8EC",
        "colab_type": "code",
        "colab": {
          "base_uri": "https://localhost:8080/",
          "height": 35
        },
        "outputId": "e044ddd8-2996-434a-e25b-f31e90007f88"
      },
      "source": [
        "#The model has improved! \n",
        "import numpy as np\n",
        "loss4 = np.sqrt(0.1143)\n",
        "print(\"Model 04 loss rate:\", loss4,\"%\")"
      ],
      "execution_count": 27,
      "outputs": [
        {
          "output_type": "stream",
          "text": [
            "Model 04 loss rate: 0.33808283008753937 %\n"
          ],
          "name": "stdout"
        }
      ]
    },
    {
      "cell_type": "markdown",
      "metadata": {
        "id": "kZqTg6HKEVjF",
        "colab_type": "text"
      },
      "source": [
        "Trainning - Version 5\n",
        "Applying Early Stoppping (\n",
        "\n"
      ]
    },
    {
      "cell_type": "code",
      "metadata": {
        "id": "yzYtj4GqEVCZ",
        "colab_type": "code",
        "colab": {}
      },
      "source": [
        "\n",
        "#EarlyStopping: great resource that helps to stop run new epochs if the loss rate is becoming worse\n",
        "\n",
        "#Example: If your define 100 epochs, but after run epoch number 55 the loss rate is becaming worse, the function run the number of patience defined and stop\n",
        "\n",
        "#patience = qty of iterations to be executed after the loss rate has stopped reducing\n",
        "#patience = number of steps that the model can make without reducing the Error\n",
        "#patiente = hepls to find out the point in the function with min error\n",
        "#min_delta = define the value that informs patient to stop or not\n",
        "#val_loss = inform function has to be considered, trainning or validation loss\n",
        "#mode = informs that the function has to be minimized or max\n",
        "#restore_best_weights = restore best weight values found or not\n",
        "es = tfk.callbacks.EarlyStopping(\n",
        "    monitor = 'val_loss', min_delta=0,patience=10,mode='min',restore_best_weights=True\n",
        ")"
      ],
      "execution_count": 0,
      "outputs": []
    },
    {
      "cell_type": "code",
      "metadata": {
        "id": "AnGT9c1pILHW",
        "colab_type": "code",
        "colab": {
          "base_uri": "https://localhost:8080/",
          "height": 381
        },
        "outputId": "69305261-5e51-4772-9512-46de1d7edf8d"
      },
      "source": [
        "#epoch = when the neural network has\n",
        "#shuffle  = true : means that the function is going to sort again, giving some ramdoness for each round\n",
        "#including callbacks = \n",
        "mdl.fit(Xtr, ytr, validation_data=(Xval, yval), epochs=10, shuffle=True, batch_size=1, callback=[es])"
      ],
      "execution_count": 29,
      "outputs": [
        {
          "output_type": "stream",
          "text": [
            "Epoch 1/10\n",
            "730/730 [==============================] - 2s 2ms/step - loss: 0.1052 - val_loss: 0.0960\n",
            "Epoch 2/10\n",
            "730/730 [==============================] - 2s 2ms/step - loss: 0.0954 - val_loss: 0.0862\n",
            "Epoch 3/10\n",
            "730/730 [==============================] - 2s 2ms/step - loss: 0.0850 - val_loss: 0.0757\n",
            "Epoch 4/10\n",
            "730/730 [==============================] - 2s 2ms/step - loss: 0.0740 - val_loss: 0.0658\n",
            "Epoch 5/10\n",
            "730/730 [==============================] - 2s 2ms/step - loss: 0.0636 - val_loss: 0.0569\n",
            "Epoch 6/10\n",
            "730/730 [==============================] - 2s 2ms/step - loss: 0.0547 - val_loss: 0.0487\n",
            "Epoch 7/10\n",
            "730/730 [==============================] - 2s 2ms/step - loss: 0.0473 - val_loss: 0.0432\n",
            "Epoch 8/10\n",
            "730/730 [==============================] - 2s 2ms/step - loss: 0.0419 - val_loss: 0.0396\n",
            "Epoch 9/10\n",
            "730/730 [==============================] - 2s 2ms/step - loss: 0.0379 - val_loss: 0.0369\n",
            "Epoch 10/10\n",
            "730/730 [==============================] - 2s 2ms/step - loss: 0.0349 - val_loss: 0.0348\n"
          ],
          "name": "stdout"
        },
        {
          "output_type": "execute_result",
          "data": {
            "text/plain": [
              "<tensorflow.python.keras.callbacks.History at 0x7fa747f931d0>"
            ]
          },
          "metadata": {
            "tags": []
          },
          "execution_count": 29
        }
      ]
    },
    {
      "cell_type": "code",
      "metadata": {
        "id": "AR94CgXKQ3Hg",
        "colab_type": "code",
        "colab": {
          "base_uri": "https://localhost:8080/",
          "height": 35
        },
        "outputId": "99168344-a03a-4edc-90a8-4018b418dc88"
      },
      "source": [
        "#The model has improved! \n",
        "import numpy as np\n",
        "loss5 = np.sqrt(0.0349)\n",
        "print(\"Model 05 loss rate:\", loss5,\"%\")"
      ],
      "execution_count": 30,
      "outputs": [
        {
          "output_type": "stream",
          "text": [
            "Model 05 loss rate: 0.18681541692269404 %\n"
          ],
          "name": "stdout"
        }
      ]
    },
    {
      "cell_type": "markdown",
      "metadata": {
        "id": "C18e0DVIPLU2",
        "colab_type": "text"
      },
      "source": [
        "Trainning - Version 6 \n",
        "Applying Dropout layer\n",
        "\n",
        "- kind of regularization method\n",
        "- change some previous layer values to ZERO\n",
        "- helps to avoid overfitting\n",
        "- helps the model not memorize the weights\n",
        "- kind of hyper parameter"
      ]
    },
    {
      "cell_type": "code",
      "metadata": {
        "id": "6owC7pAyQTd2",
        "colab_type": "code",
        "colab": {
          "base_uri": "https://localhost:8080/",
          "height": 329
        },
        "outputId": "4f81b471-ad88-4728-d64f-679498117b5b"
      },
      "source": [
        "#defining standard seed to guarantee the reproduceability of model\n",
        "tf.random.set_seed(2)\n",
        "\n",
        "#first layer, input data\n",
        "inp = tfk.layers.Input((Xtr.shape[1], ))\n",
        "\n",
        "#hidden layers\n",
        "# 100 = qty of neurons\n",
        "# relu function: x = w1*f1 + w2*f2 > max(0, x)\n",
        "#at the end, declare \"inp\" that means the layer input, the layer that comes immediately before\n",
        "hid1 = tfk.layers.Dense(100,activation='relu')(inp)\n",
        "\n",
        "#new layout, dropout layer\n",
        "drop = tfk.layers.Dropout(0.5)(hid1)\n",
        "\n",
        "#two hidden layers, its considered a deep learning model...\n",
        "hid2 = tfk.layers.Dense(100,activation='relu')(drop)\n",
        "\n",
        "#output layer\n",
        "# 1, meas just one output layer\n",
        "# activation Linear = its the simplest way, which x = w1*f1 + w2*f2\n",
        "#at the end, declare \"hid\" that means the layer hidden\n",
        "out = tfk.layers.Dense(1, activation='linear')(hid2)\n",
        "\n",
        "#1st par = input layer\n",
        "#2nd par = output layer\n",
        "mdl = tfk.Model(inp, out)\n",
        "#loss msle = minimum square logarithm error\n",
        "#defining the optimizer = Adam optimization is a stochastic gradient descent method that is based on adaptive estimation of first-order and second-order moments.\n",
        "mdl.compile(loss='msle', optimizer='adam')\n",
        "#print how our neural model is organized\n",
        "mdl.summary()"
      ],
      "execution_count": 31,
      "outputs": [
        {
          "output_type": "stream",
          "text": [
            "Model: \"model_4\"\n",
            "_________________________________________________________________\n",
            "Layer (type)                 Output Shape              Param #   \n",
            "=================================================================\n",
            "input_5 (InputLayer)         [(None, 285)]             0         \n",
            "_________________________________________________________________\n",
            "dense_9 (Dense)              (None, 100)               28600     \n",
            "_________________________________________________________________\n",
            "dropout (Dropout)            (None, 100)               0         \n",
            "_________________________________________________________________\n",
            "dense_10 (Dense)             (None, 100)               10100     \n",
            "_________________________________________________________________\n",
            "dense_11 (Dense)             (None, 1)                 101       \n",
            "=================================================================\n",
            "Total params: 38,801\n",
            "Trainable params: 38,801\n",
            "Non-trainable params: 0\n",
            "_________________________________________________________________\n"
          ],
          "name": "stdout"
        }
      ]
    },
    {
      "cell_type": "code",
      "metadata": {
        "id": "-upzSbf0RSpc",
        "colab_type": "code",
        "colab": {}
      },
      "source": [
        "#EarlyStopping: great resource that helps to stop run new epochs if the loss rate is becoming worse\n",
        "\n",
        "#Example: If your define 100 epochs, but after run epoch number 55 the loss rate is becaming worse, the function run the number of patience defined and stop\n",
        "\n",
        "#patience = qty of iterations to be executed after the loss rate has stopped reducing\n",
        "#patience = number of steps that the model can make without reducing the Error\n",
        "#patiente = hepls to find out the point in the function with min error\n",
        "#min_delta = define the value that informs patient to stop or not\n",
        "#val_loss = inform function has to be considered, trainning or validation loss\n",
        "#mode = informs that the function has to be minimized or max\n",
        "#restore_best_weights = restore best weight values found or not\n",
        "es = tfk.callbacks.EarlyStopping(\n",
        "    monitor = 'val_loss', min_delta=0,patience=10,mode='min',restore_best_weights=True\n",
        ")"
      ],
      "execution_count": 0,
      "outputs": []
    },
    {
      "cell_type": "code",
      "metadata": {
        "id": "g7-btFMzRXKq",
        "colab_type": "code",
        "colab": {
          "base_uri": "https://localhost:8080/",
          "height": 381
        },
        "outputId": "d1c3f7be-ded8-4d7d-e652-7177f2ab3e65"
      },
      "source": [
        "#epoch = when the neural network has\n",
        "#shuffle  = true : means that the function is going to sort again, giving some ramdoness for each round\n",
        "#including callbacks = \n",
        "mdl.fit(Xtr, ytr, validation_data=(Xval, yval), epochs=10, shuffle=True, batch_size=1, callback=[es])"
      ],
      "execution_count": 33,
      "outputs": [
        {
          "output_type": "stream",
          "text": [
            "Epoch 1/10\n",
            "730/730 [==============================] - 2s 2ms/step - loss: 41.7158 - val_loss: 16.1529\n",
            "Epoch 2/10\n",
            "730/730 [==============================] - 2s 2ms/step - loss: 10.5287 - val_loss: 6.6995\n",
            "Epoch 3/10\n",
            "730/730 [==============================] - 2s 2ms/step - loss: 5.0576 - val_loss: 3.4426\n",
            "Epoch 4/10\n",
            "730/730 [==============================] - 2s 2ms/step - loss: 2.7167 - val_loss: 1.8022\n",
            "Epoch 5/10\n",
            "730/730 [==============================] - 2s 2ms/step - loss: 1.4568 - val_loss: 0.9248\n",
            "Epoch 6/10\n",
            "730/730 [==============================] - 2s 2ms/step - loss: 0.8137 - val_loss: 0.4673\n",
            "Epoch 7/10\n",
            "730/730 [==============================] - 2s 2ms/step - loss: 0.4535 - val_loss: 0.2463\n",
            "Epoch 8/10\n",
            "730/730 [==============================] - 2s 2ms/step - loss: 0.2684 - val_loss: 0.1517\n",
            "Epoch 9/10\n",
            "730/730 [==============================] - 2s 2ms/step - loss: 0.1991 - val_loss: 0.1171\n",
            "Epoch 10/10\n",
            "730/730 [==============================] - 2s 2ms/step - loss: 0.1995 - val_loss: 0.1049\n"
          ],
          "name": "stdout"
        },
        {
          "output_type": "execute_result",
          "data": {
            "text/plain": [
              "<tensorflow.python.keras.callbacks.History at 0x7fa748a21dd8>"
            ]
          },
          "metadata": {
            "tags": []
          },
          "execution_count": 33
        }
      ]
    },
    {
      "cell_type": "code",
      "metadata": {
        "id": "xp9q90GEQy6j",
        "colab_type": "code",
        "colab": {
          "base_uri": "https://localhost:8080/",
          "height": 35
        },
        "outputId": "dab23a42-8c15-4e85-fc35-e77ddec93914"
      },
      "source": [
        "#The model has improved! \n",
        "import numpy as np\n",
        "loss6 = np.sqrt(0.1995)\n",
        "print(\"Model 06 loss rate:\", loss6,\"%\")"
      ],
      "execution_count": 34,
      "outputs": [
        {
          "output_type": "stream",
          "text": [
            "Model 06 loss rate: 0.4466542286825459 %\n"
          ],
          "name": "stdout"
        }
      ]
    },
    {
      "cell_type": "markdown",
      "metadata": {
        "id": "FmAMF31aTCj8",
        "colab_type": "text"
      },
      "source": [
        "***Journey Summary***\n",
        "\n"
      ]
    },
    {
      "cell_type": "code",
      "metadata": {
        "id": "s1o9o-BkS9Us",
        "colab_type": "code",
        "colab": {
          "base_uri": "https://localhost:8080/",
          "height": 121
        },
        "outputId": "463af26b-6f4d-4ce1-d9e5-9f1058d0540f"
      },
      "source": [
        "\n",
        "#Summary\n",
        "print(\"Model 01 loss rate:\", round(loss1,2),\"%\")\n",
        "print(\"Model 02 - Applying scalling - loss rate:\",  round(loss2,2),\"%\")\n",
        "print(\"Model 03 - Change activation function to Relu, Output Layer - loss rate:\",  round(loss3,2),\"%\")\n",
        "print(\"Model 04 - Increasing one hidden layer - loss rate:\",  round(loss4,2),\"%\")\n",
        "print(\"Model 05 - Applying Early Stoppping - loss rate:\",  round(loss5,2),\"%\")\n",
        "print(\"Model 06 - Applying Dropout layer - loss rate:\",  round(loss6,2),\"%\")"
      ],
      "execution_count": 35,
      "outputs": [
        {
          "output_type": "stream",
          "text": [
            "Model 01 loss rate: 12.03 %\n",
            "Model 02 - Applying scalling - loss rate: 2.74 %\n",
            "Model 03 - Change activation function to Relu, Output Layer - loss rate: 2.74 %\n",
            "Model 04 - Increasing one hidden layer - loss rate: 0.34 %\n",
            "Model 05 - Applying Early Stoppping - loss rate: 0.19 %\n",
            "Model 06 - Applying Dropout layer - loss rate: 0.45 %\n"
          ],
          "name": "stdout"
        }
      ]
    },
    {
      "cell_type": "markdown",
      "metadata": {
        "id": "82D06fdSVJM3",
        "colab_type": "text"
      },
      "source": [
        "Credits: Mario Filho - https://github.com/ledmaster"
      ]
    }
  ]
}